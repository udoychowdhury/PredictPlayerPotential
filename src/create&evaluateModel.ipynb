{
 "cells": [
  {
   "cell_type": "code",
   "execution_count": 1,
   "metadata": {},
   "outputs": [
    {
     "name": "stderr",
     "output_type": "stream",
     "text": [
      "/opt/anaconda3/lib/python3.9/site-packages/scipy/__init__.py:146: UserWarning: A NumPy version >=1.16.5 and <1.23.0 is required for this version of SciPy (detected version 1.26.4\n",
      "  warnings.warn(f\"A NumPy version >={np_minversion} and <{np_maxversion}\"\n",
      "/opt/anaconda3/lib/python3.9/site-packages/pandas/core/computation/expressions.py:21: UserWarning: Pandas requires version '2.8.4' or newer of 'numexpr' (version '2.7.3' currently installed).\n",
      "  from pandas.core.computation.check import NUMEXPR_INSTALLED\n",
      "/opt/anaconda3/lib/python3.9/site-packages/pandas/core/arrays/masked.py:60: UserWarning: Pandas requires version '1.3.6' or newer of 'bottleneck' (version '1.3.2' currently installed).\n",
      "  from pandas.core import (\n"
     ]
    }
   ],
   "source": [
    "from sklearn.preprocessing import StandardScaler, OneHotEncoder\n",
    "from sklearn.model_selection import train_test_split\n",
    "from sklearn.linear_model import LogisticRegression\n",
    "from sklearn.metrics import classification_report, confusion_matrix, f1_score, accuracy_score\n",
    "from sklearn.compose import ColumnTransformer\n",
    "from sklearn.impute import SimpleImputer\n",
    "from sklearn.pipeline import Pipeline\n",
    "from sklearn.compose import ColumnTransformer\n",
    "from imblearn.over_sampling import RandomOverSampler\n",
    "from imblearn.pipeline import Pipeline as ImbPipeline\n",
    "import joblib\n",
    "import pandas as pd\n",
    "import matplotlib.pyplot as plt\n",
    "import seaborn as sns\n",
    "\n",
    "# Remove display restrictions\n",
    "pd.set_option('display.max_columns', None)  \n",
    "pd.set_option('display.width', None) \n",
    "\n",
    "# Load your data\n",
    "data = pd.read_csv(r'/Users/udoychowdhury/Documents/DataScience/Soccer Data/Male_FIFA_24_Players.csv')"
   ]
  },
  {
   "cell_type": "markdown",
   "metadata": {},
   "source": [
    "## Define Threshold"
   ]
  },
  {
   "cell_type": "code",
   "execution_count": 2,
   "metadata": {},
   "outputs": [],
   "source": [
    "# Define high potential players\n",
    "data['high_potential'] = ((data['potential'] - data['overall'] >= 5) & (data['age'] < 25)).astype(int)\n",
    "\n",
    "# Check the balance of the new column\n",
    "# data_fifa24['high_potential'].value_counts()\n",
    "# high_potential_players = data_fifa24[data_fifa24['high_potential'] == 1]\n",
    "# display(high_potential_players)"
   ]
  },
  {
   "cell_type": "markdown",
   "metadata": {},
   "source": [
    "## Logistic Regression Model"
   ]
  },
  {
   "cell_type": "code",
   "execution_count": 3,
   "metadata": {},
   "outputs": [],
   "source": [
    "# Selecting features\n",
    "features = data[[\n",
    "    # 'age', \n",
    "    # 'overall', \n",
    "    # 'potential', \n",
    "    'value_eur', \n",
    "    'wage_eur', \n",
    "    'height_cm', \n",
    "    'weight_kg', \n",
    "    'preferred_foot', \n",
    "    'weak_foot',\n",
    "    'skill_moves', \n",
    "    'work_rate', \n",
    "    'body_type', \n",
    "    'pace', \n",
    "    'shooting', \n",
    "    'passing', \n",
    "    'dribbling', \n",
    "    'defending', \n",
    "    'physic', \n",
    "    'skill_dribbling', \n",
    "    'skill_curve',\n",
    "    'skill_fk_accuracy', \n",
    "    'skill_long_passing', \n",
    "    'skill_ball_control', \n",
    "    'mentality_aggression',\n",
    "    'mentality_interceptions', \n",
    "    'mentality_positioning', \n",
    "    'mentality_vision', \n",
    "    'mentality_penalties',\n",
    "    'mentality_composure']]\n",
    "\n",
    "# Preprocessing for numerical and categorical data\n",
    "numerical_cols = features.select_dtypes(include=['int64', 'float64']).columns\n",
    "categorical_cols = features.select_dtypes(include=['object']).columns\n",
    "\n",
    "preprocessor = ColumnTransformer(\n",
    "    transformers=[\n",
    "        ('num', StandardScaler(), numerical_cols),\n",
    "        ('cat', OneHotEncoder(), categorical_cols),\n",
    "    ])\n",
    "\n",
    "# Prepare features\n",
    "X = features\n",
    "y = data['high_potential']\n",
    "\n",
    "# Split the data\n",
    "X_train, X_test, y_train, y_test = train_test_split(X, y, test_size=0.2, random_state=42, stratify=y)"
   ]
  },
  {
   "cell_type": "code",
   "execution_count": 4,
   "metadata": {},
   "outputs": [
    {
     "name": "stdout",
     "output_type": "stream",
     "text": [
      "Accuracy: 0.7598896044158233\n",
      "F1 Score: 0.7310202679491584\n",
      "\n",
      "Confusion Matrix:\n",
      " [[1414  373]\n",
      " [ 410 1064]]\n",
      "\n",
      "Classification Report:\n",
      "               precision    recall  f1-score   support\n",
      "\n",
      "           0       0.78      0.79      0.78      1787\n",
      "           1       0.74      0.72      0.73      1474\n",
      "\n",
      "    accuracy                           0.76      3261\n",
      "   macro avg       0.76      0.76      0.76      3261\n",
      "weighted avg       0.76      0.76      0.76      3261\n",
      "\n"
     ]
    }
   ],
   "source": [
    "# Building the pipeline\n",
    "pipeline = Pipeline(steps=[('preprocessor', preprocessor),\n",
    "                           ('classifier', LogisticRegression(random_state=42))])\n",
    "\n",
    "# Training the model\n",
    "pipeline.fit(X_train, y_train)\n",
    "\n",
    "# Predicting the test set\n",
    "y_pred = pipeline.predict(X_test)\n",
    "\n",
    "# Evaluation metrics\n",
    "accuracy = accuracy_score(y_test, y_pred)\n",
    "f1 = f1_score(y_test, y_pred)\n",
    "conf_matrix = confusion_matrix(y_test, y_pred)\n",
    "\n",
    "# Display the evaluation results\n",
    "print(\"Accuracy:\", accuracy)\n",
    "print(\"F1 Score:\", f1)\n",
    "print(\"\\nConfusion Matrix:\\n\", conf_matrix)\n",
    "print(\"\\nClassification Report:\\n\", classification_report(y_test, y_pred))"
   ]
  },
  {
   "cell_type": "markdown",
   "metadata": {},
   "source": [
    "## Save the model"
   ]
  },
  {
   "cell_type": "code",
   "execution_count": 35,
   "metadata": {},
   "outputs": [
    {
     "data": {
      "text/plain": [
       "['/Users/udoychowdhury/Documents/DataScience/Soccer Data/fifa_model.pkl']"
      ]
     },
     "execution_count": 35,
     "metadata": {},
     "output_type": "execute_result"
    }
   ],
   "source": [
    "joblib.dump(pipeline, r'/Users/udoychowdhury/Documents/DataScience/Soccer Data/fifa_model.pkl')"
   ]
  },
  {
   "cell_type": "markdown",
   "metadata": {},
   "source": [
    "## Test the model"
   ]
  },
  {
   "cell_type": "code",
   "execution_count": 5,
   "metadata": {},
   "outputs": [],
   "source": [
    "#Load the model\n",
    "model = joblib.load(r'/Users/udoychowdhury/Documents/DataScience/Machine Learning/fifa_model.pkl')"
   ]
  },
  {
   "cell_type": "code",
   "execution_count": 6,
   "metadata": {},
   "outputs": [],
   "source": [
    "# Function to use model\n",
    "def predict_high_potential(short_name):\n",
    "    player_data = data[data['short_name'] == short_name]\n",
    "    \n",
    "    # Check if the player exists or the name is correct\n",
    "    if player_data.empty:\n",
    "        return \"Player not found.\"\n",
    "\n",
    "    # Select features for that player name\n",
    "    features = player_data[[\n",
    "        # 'age', \n",
    "        # 'overall',\n",
    "        # 'potential',\n",
    "        'value_eur', \n",
    "        'wage_eur', \n",
    "        'height_cm', \n",
    "        'weight_kg', \n",
    "        'preferred_foot', \n",
    "        'weak_foot',\n",
    "        'skill_moves', \n",
    "        'work_rate', \n",
    "        'body_type', \n",
    "        'pace', \n",
    "        'shooting', \n",
    "        'passing', \n",
    "        'dribbling', \n",
    "        'defending', \n",
    "        'physic', \n",
    "        'skill_dribbling', \n",
    "        'skill_curve',\n",
    "        'skill_fk_accuracy', \n",
    "        'skill_long_passing', \n",
    "        'skill_ball_control', \n",
    "        'mentality_aggression',\n",
    "        'mentality_interceptions', \n",
    "        'mentality_positioning', \n",
    "        'mentality_vision', \n",
    "        'mentality_penalties',\n",
    "        'mentality_composure'\n",
    "    ]]\n",
    "    \n",
    "    # Preprocess features and make a prediction\n",
    "    prediction = model.predict(features)\n",
    "    prediction_proba = model.predict_proba(features)\n",
    "\n",
    "    # Get player information\n",
    "    overall = player_data['overall'].values[0]\n",
    "    potential = player_data['potential'].values[0]\n",
    "    improvement = potential - overall\n",
    "    improvement_percentage = (improvement / overall) * 100\n",
    "\n",
    "    # Extract confidence for both classes\n",
    "    confidence_high_potential = prediction_proba[0, 1] * 100\n",
    "    confidence_not_high_potential = prediction_proba[0, 0] * 100\n",
    "\n",
    "    if prediction[0] == 1:\n",
    "        return (f\"{short_name}, currently rated at {overall}, has the potential to improve by approximately {improvement_percentage:.2f}% \"\n",
    "                f\"to reach a potential rating of {potential}. This indicates a promising future and capability for further development. \"\n",
    "                f\"Confidence in this prediction of high potential is {confidence_high_potential:.2f}%, suggesting a strong likelihood of achieving such growth.\")\n",
    "    else:\n",
    "        return (f\"{short_name}, with a current rating of {overall}, is predicted not to have high potential for significant improvement, \"\n",
    "                f\"expected to remain close to their current performance level. \"\n",
    "                f\"Confidence in this prediction is {confidence_not_high_potential:.2f}%, indicating a high certainty that substantial improvement is unlikely.\")"
   ]
  },
  {
   "cell_type": "code",
   "execution_count": 7,
   "metadata": {},
   "outputs": [
    {
     "name": "stdout",
     "output_type": "stream",
     "text": [
      "Accuracy: 0.7598896044158233\n",
      "\n",
      "Classification Report:\n",
      "               precision    recall  f1-score   support\n",
      "\n",
      "           0       0.78      0.79      0.78      1787\n",
      "           1       0.74      0.72      0.73      1474\n",
      "\n",
      "    accuracy                           0.76      3261\n",
      "   macro avg       0.76      0.76      0.76      3261\n",
      "weighted avg       0.76      0.76      0.76      3261\n",
      "\n"
     ]
    }
   ],
   "source": [
    "# Evaluate the model\n",
    "print(\"Accuracy:\", accuracy_score(y_test, y_pred))\n",
    "print(\"\\nClassification Report:\\n\", classification_report(y_test, y_pred))"
   ]
  },
  {
   "cell_type": "code",
   "execution_count": 8,
   "metadata": {},
   "outputs": [
    {
     "name": "stdout",
     "output_type": "stream",
     "text": [
      "Pedri, currently rated at 86, has the potential to improve by approximately 6.98% to reach a potential rating of 92. This indicates a promising future and capability for further development. Confidence in this prediction of high potential is 95.55%, suggesting a strong likelihood of achieving such growth.\n"
     ]
    }
   ],
   "source": [
    "# Example Usage\n",
    "result = predict_high_potential('Pedri')\n",
    "print(result)"
   ]
  },
  {
   "cell_type": "code",
   "execution_count": 27,
   "metadata": {},
   "outputs": [
    {
     "name": "stdout",
     "output_type": "stream",
     "text": [
      "-sH4m4gr7-LzhDMdtinrr-5575urIoXBZwESUQL-uDU\n"
     ]
    }
   ],
   "source": [
    "# import your library\n",
    "import secrets\n",
    "\n",
    "# function to create the api key\n",
    "def generate_api_key():\n",
    "    return secrets.token_urlsafe(32)\n",
    "# Call the function\n",
    "new_api_key = generate_api_key()\n",
    "\n",
    "# print out your key\n",
    "print(new_api_key)"
   ]
  },
  {
   "cell_type": "code",
   "execution_count": 45,
   "metadata": {},
   "outputs": [
    {
     "name": "stdout",
     "output_type": "stream",
     "text": [
      "An error occurred: HTTPConnectionPool(host='45.55.75.51', port=80): Max retries exceeded with url: /v1/predict?value=Gavi (Caused by NewConnectionError('<urllib3.connection.HTTPConnection object at 0x7fb08179d280>: Failed to establish a new connection: [Errno 61] Connection refused'))\n"
     ]
    }
   ],
   "source": [
    "import requests\n",
    "\n",
    "api_key = '-sH4m4gr7-LzhDMdtinrr-5575urIoXBZwESUQL-uDU'\n",
    "\n",
    "headers = {\n",
    "    \"accept\": \"application/json\",\n",
    "    \"PPP_API_KEY\": api_key\n",
    "}\n",
    "\n",
    "try:\n",
    "    response = requests.get(\"http://45.55.75.51/v1/predict?value=Gavi\", headers=headers)\n",
    "    response.raise_for_status()  # This will raise an exception for HTTP errors\n",
    "    result_json = response.json()  # Using .json() to directly get the JSON response\n",
    "    print(result_json)\n",
    "except requests.exceptions.HTTPError as err:\n",
    "    print(f\"HTTP Error: {err}\")\n",
    "except Exception as e:\n",
    "    print(f\"An error occurred: {e}\")"
   ]
  }
 ],
 "metadata": {
  "kernelspec": {
   "display_name": "Python 3",
   "language": "python",
   "name": "python3"
  },
  "language_info": {
   "codemirror_mode": {
    "name": "ipython",
    "version": 3
   },
   "file_extension": ".py",
   "mimetype": "text/x-python",
   "name": "python",
   "nbconvert_exporter": "python",
   "pygments_lexer": "ipython3",
   "version": "3.9.7"
  }
 },
 "nbformat": 4,
 "nbformat_minor": 2
}
